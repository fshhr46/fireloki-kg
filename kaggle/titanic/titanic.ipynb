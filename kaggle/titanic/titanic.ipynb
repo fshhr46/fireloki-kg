{
 "cells": [
  {
   "cell_type": "code",
   "execution_count": 2,
   "id": "4aa76c5b",
   "metadata": {},
   "outputs": [],
   "source": [
    "from titanic import *"
   ]
  },
  {
   "cell_type": "code",
   "execution_count": 10,
   "id": "cd50beb0",
   "metadata": {},
   "outputs": [],
   "source": [
    "\n",
    "test_path = \"data/test.csv\"\n",
    "test_data = load_data(test_path, [\"SexDigit\", \"Age\"], True)\n",
    "\n",
    "train_path = \"data/train.csv\"\n",
    "train_data = load_data(train_path, [\"Survived\", \"SexDigit\", \"Age\"], True)\n",
    "train_partition, eval_partition = split_train_eval(train_data, 0.8)\n",
    "\n",
    "train_x = train_partition.loc[:, [\"SexDigit\", \"Age\"]]\n",
    "train_y = train_partition.loc[:, [\"Survived\"]]"
   ]
  },
  {
   "cell_type": "code",
   "execution_count": 11,
   "id": "7d3747e4",
   "metadata": {},
   "outputs": [],
   "source": [
    "\n",
    "eval_x = eval_partition.loc[:, [\"SexDigit\", \"Age\"]]\n",
    "eval_y = eval_partition.loc[:, [\"Survived\"]]"
   ]
  },
  {
   "cell_type": "code",
   "execution_count": 22,
   "id": "ae536808",
   "metadata": {},
   "outputs": [
    {
     "name": "stdout",
     "output_type": "stream",
     "text": [
      "[0 1 0 0 0 0 0 1 0 1 1 0 0 0 0 1 0 0 1 0 0 0 0 1 0 0 1 0 0 0 1 0 0 0 0 1 0\n",
      " 0 1 0 1 1 0 0 0 1 1 0 1 1 1 1 0 0 0 1 0 0 0 0 0 0 1 1 0 1 0 1 0 0 0 0 0 1\n",
      " 0 1 0 0 0 1 0 1 0 0 0 1 0 0 1 0 0 1 1 0 0 0 1 0 0 0 0 1 0 0 0 0 0 0 0 1 1\n",
      " 1 1 1 0 1 0 0 1 0 1 1 0 0 0 1 0 0 1 1 0 0 1 1 0 1 0 0 1 0 1 0 0]\n"
     ]
    },
    {
     "name": "stderr",
     "output_type": "stream",
     "text": [
      "/Users/haoranhuang/miniconda3/envs/py38_ml/lib/python3.8/site-packages/sklearn/utils/validation.py:1143: DataConversionWarning: A column-vector y was passed when a 1d array was expected. Please change the shape of y to (n_samples, ), for example using ravel().\n",
      "  y = column_or_1d(y, warn=True)\n"
     ]
    }
   ],
   "source": [
    "\n",
    "logreg_model = LogisticRegression(C=1e5)\n",
    "logreg_model.fit(train_x, train_y)\n",
    "logits = logreg_model.predict(eval_x)\n",
    "print(logits)"
   ]
  }
 ],
 "metadata": {
  "kernelspec": {
   "display_name": "Python 3 (ipykernel)",
   "language": "python",
   "name": "python3"
  },
  "language_info": {
   "codemirror_mode": {
    "name": "ipython",
    "version": 3
   },
   "file_extension": ".py",
   "mimetype": "text/x-python",
   "name": "python",
   "nbconvert_exporter": "python",
   "pygments_lexer": "ipython3",
   "version": "3.8.13"
  }
 },
 "nbformat": 4,
 "nbformat_minor": 5
}
